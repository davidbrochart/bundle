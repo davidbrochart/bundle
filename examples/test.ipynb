{
 "cells": [
  {
   "cell_type": "code",
   "execution_count": null,
   "metadata": {},
   "outputs": [],
   "source": [
    "import matplotlib.pyplot as plt\n",
    "import numpy as np\n",
    "import sys\n",
    "sys.path.insert(0, '..')\n",
    "import bundle as bd\n",
    "from pyclk import Trace\n",
    "\n",
    "%matplotlib inline"
   ]
  },
  {
   "cell_type": "code",
   "execution_count": null,
   "metadata": {},
   "outputs": [],
   "source": [
    "ctrl_nb = 3\n",
    "iter_nb = 4\n",
    "mem_nb = iter_nb * 3 * 2\n",
    "mem_depth = 1024\n",
    "add_nb = iter_nb\n",
    "mul_nb = iter_nb\n",
    "\n",
    "fpga = bd.FPGA(ctrl_nb, iter_nb, mem_nb, mem_depth, add_nb, mul_nb)"
   ]
  },
  {
   "cell_type": "code",
   "execution_count": null,
   "metadata": {},
   "outputs": [],
   "source": [
    "#fpga.set_cycle_nb(1000)\n",
    "\n",
    "if True:\n",
    "    trace = Trace()\n",
    "    for i in range(fpga.config['mem_nb']):\n",
    "        trace.add(fpga.u_mem[i].i_addr)\n",
    "        trace.add(fpga.u_mem[i].o_dout)\n",
    "        trace.add(fpga.u_mem[i].i_din)\n",
    "        trace.add(fpga.u_mem[i].i_wena)\n",
    "    for i in range(fpga.config['iter_nb']):\n",
    "        trace.add(fpga.u_iter[i].o_wena)\n",
    "        #trace.add(fpga.u_iter[i].o_done)\n",
    "        #trace.add(fpga.u_iter[i].i_ack)\n",
    "        #trace.add(fpga.u_iter[i].i_data_nb)\n",
    "    for i in range(fpga.config['func_nb']):\n",
    "        trace.add(fpga.u_func[i].o_res)\n",
    "    fpga.set_trace(trace)"
   ]
  },
  {
   "cell_type": "code",
   "execution_count": null,
   "metadata": {
    "scrolled": true
   },
   "outputs": [],
   "source": [
    "size = 10_000\n",
    "a0 = np.arange(size)\n",
    "a1 = np.ones_like(a0)\n",
    "a2 = np.zeros_like(a0)\n",
    "expr = '(a0 + a1 * (a0 + a2)) * a1 + a1'"
   ]
  },
  {
   "cell_type": "code",
   "execution_count": null,
   "metadata": {
    "scrolled": true
   },
   "outputs": [],
   "source": [
    "res = bd.evaluate(expr)"
   ]
  },
  {
   "cell_type": "code",
   "execution_count": null,
   "metadata": {},
   "outputs": [],
   "source": [
    "res"
   ]
  },
  {
   "cell_type": "code",
   "execution_count": null,
   "metadata": {},
   "outputs": [],
   "source": [
    "# FPGA runs at 100 MHz\n",
    "print('In FPGA:')\n",
    "print(f'{fpga.time * 1e6 / 1e8} us')"
   ]
  },
  {
   "cell_type": "code",
   "execution_count": null,
   "metadata": {},
   "outputs": [],
   "source": [
    "cexpr = compile(expr, 'fakemodule', 'exec')\n",
    "print('In CPU:')\n",
    "%timeit exec(cexpr)"
   ]
  },
  {
   "cell_type": "code",
   "execution_count": null,
   "metadata": {},
   "outputs": [],
   "source": [
    "#res_true = bd.evaluate(expr, toFpga=False)\n",
    "res_true = eval(expr)\n",
    "res_true"
   ]
  },
  {
   "cell_type": "code",
   "execution_count": null,
   "metadata": {},
   "outputs": [],
   "source": [
    "if np.array_equal(res, res_true):\n",
    "    print('Success!')\n",
    "else:\n",
    "    print('Failed!')"
   ]
  },
  {
   "cell_type": "code",
   "execution_count": null,
   "metadata": {},
   "outputs": [],
   "source": [
    "res = np.array(res)\n",
    "diff_idx = np.where(res != res_true)\n",
    "plt.figure(figsize=(15, 5))\n",
    "plt.scatter(np.arange(res_true.size), res_true, c='b')\n",
    "plt.scatter(diff_idx, res[diff_idx], c='r', label='FPGA')\n",
    "plt.scatter(diff_idx, res_true[diff_idx], c='g', label='NumPy')\n",
    "#plt.scatter(diff_idx, z_true[diff_idx]-z[diff_idx], c='r')\n",
    "plt.xlim(0, size)\n",
    "plt.ylim(1, size+1)\n",
    "plt.legend(loc='upper left')\n",
    "plt.title('Differences')\n",
    "plt.show()"
   ]
  },
  {
   "cell_type": "code",
   "execution_count": null,
   "metadata": {},
   "outputs": [],
   "source": [
    "res[diff_idx]"
   ]
  },
  {
   "cell_type": "code",
   "execution_count": null,
   "metadata": {},
   "outputs": [],
   "source": [
    "res_true[diff_idx]"
   ]
  },
  {
   "cell_type": "code",
   "execution_count": null,
   "metadata": {
    "scrolled": false
   },
   "outputs": [],
   "source": [
    "trace.plot()"
   ]
  }
 ],
 "metadata": {
  "kernelspec": {
   "display_name": "Python 3",
   "language": "python",
   "name": "python3"
  },
  "language_info": {
   "codemirror_mode": {
    "name": "ipython",
    "version": 3
   },
   "file_extension": ".py",
   "mimetype": "text/x-python",
   "name": "python",
   "nbconvert_exporter": "python",
   "pygments_lexer": "ipython3",
   "version": "3.6.3"
  }
 },
 "nbformat": 4,
 "nbformat_minor": 2
}
