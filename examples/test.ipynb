{
 "cells": [
  {
   "cell_type": "code",
   "execution_count": null,
   "metadata": {},
   "outputs": [],
   "source": [
    "is_simulation = True"
   ]
  },
  {
   "cell_type": "code",
   "execution_count": null,
   "metadata": {},
   "outputs": [],
   "source": [
    "import numpy as np\n",
    "import sys\n",
    "sys.path.insert(0, '..')\n",
    "from bundle import FPGA_config, evaluate\n",
    "from bundle.dashboard_mpl import Dashboard\n",
    "\n",
    "if is_simulation:\n",
    "    import matplotlib.pyplot as plt\n",
    "    %matplotlib inline\n",
    "    from bundle.simu import Simu\n",
    "    from pyclk import Trace\n",
    "else:\n",
    "    from bundle.pynq import PYNQ\n",
    "    from pynq import Xlnk, Overlay\n",
    "    xlnk = Xlnk()\n",
    "    overlay = Overlay('/home/xilinx/overlays/bundle/design_1.bit')"
   ]
  },
  {
   "cell_type": "code",
   "execution_count": null,
   "metadata": {},
   "outputs": [],
   "source": [
    "iter_nb = 4\n",
    "mem_nb = iter_nb * 2 * 3 * 2\n",
    "ddr2fpga_nb = iter_nb * 2\n",
    "fpga2ddr_nb = iter_nb\n",
    "mem_depth = 128\n",
    "add_nb = iter_nb\n",
    "mul_nb = iter_nb\n",
    "\n",
    "fpga_config = FPGA_config(ddr2fpga_nb, fpga2ddr_nb, iter_nb, mem_nb, mem_depth, add_nb, mul_nb)\n",
    "\n",
    "if is_simulation:\n",
    "    fpga = Simu(fpga_config)\n",
    "else:\n",
    "    fpga = PYNQ(fpga_config, overlay)"
   ]
  },
  {
   "cell_type": "code",
   "execution_count": null,
   "metadata": {},
   "outputs": [],
   "source": [
    "if is_simulation:\n",
    "    trace = Trace()\n",
    "    for i in range(fpga_config.config['iter_nb']):\n",
    "        trace.add(fpga.u_iter[i].o_raddr)\n",
    "        trace.add(fpga.u_iter[i].o_waddr)\n",
    "        trace.add(fpga.u_iter[i].o_wena)\n",
    "        trace.add(fpga.s_iter_rmem0_i[i])\n",
    "        trace.add(fpga.s_iter_rmem1_i[i])\n",
    "        trace.add(fpga.s_iter_wmem_i[i])\n",
    "    for i in range(fpga_config.config['mem_nb']):\n",
    "        trace.add(fpga.s_mem_addr[i])\n",
    "        trace.add(fpga.s_mem_wena[i])\n",
    "        trace.add(fpga.s_mem_din[i])\n",
    "        trace.add(fpga.s_mem_dout[i])\n",
    "    fpga.set_trace(trace)"
   ]
  },
  {
   "cell_type": "code",
   "execution_count": null,
   "metadata": {
    "scrolled": true
   },
   "outputs": [],
   "source": [
    "size = 1000\n",
    "a0 = np.arange(size)\n",
    "a1 = np.ones_like(a0)\n",
    "a2 = np.zeros_like(a0)\n",
    "\n",
    "expr = '(a0 + a1 * (a0 + a2)) * a1 + a1'"
   ]
  },
  {
   "cell_type": "code",
   "execution_count": null,
   "metadata": {},
   "outputs": [],
   "source": [
    "db = Dashboard(fpga)"
   ]
  },
  {
   "cell_type": "code",
   "execution_count": null,
   "metadata": {
    "scrolled": true
   },
   "outputs": [],
   "source": [
    "res = evaluate(expr, fpga, dashboard=db)"
   ]
  },
  {
   "cell_type": "code",
   "execution_count": null,
   "metadata": {},
   "outputs": [],
   "source": [
    "db.show()"
   ]
  },
  {
   "cell_type": "code",
   "execution_count": null,
   "metadata": {},
   "outputs": [],
   "source": [
    "res"
   ]
  },
  {
   "cell_type": "code",
   "execution_count": null,
   "metadata": {},
   "outputs": [],
   "source": [
    "# FPGA runs at 100 MHz\n",
    "print('In FPGA:')\n",
    "print(f'{fpga.time * 1e6 / 1e8} us')"
   ]
  },
  {
   "cell_type": "code",
   "execution_count": null,
   "metadata": {},
   "outputs": [],
   "source": [
    "cexpr = compile(expr, 'fakemodule', 'exec')\n",
    "print('In CPU:')\n",
    "%timeit exec(cexpr)"
   ]
  },
  {
   "cell_type": "code",
   "execution_count": null,
   "metadata": {},
   "outputs": [],
   "source": [
    "#res_true = bd.evaluate(expr, toFpga=False)\n",
    "res_true = eval(expr)\n",
    "res_true"
   ]
  },
  {
   "cell_type": "code",
   "execution_count": null,
   "metadata": {},
   "outputs": [],
   "source": [
    "if np.array_equal(res, res_true):\n",
    "    print('Success!')\n",
    "else:\n",
    "    print('Failed!')"
   ]
  },
  {
   "cell_type": "code",
   "execution_count": null,
   "metadata": {},
   "outputs": [],
   "source": [
    "res = np.array(res)\n",
    "diff_idx = np.where(res != res_true)\n",
    "plt.figure(figsize=(15, 5))\n",
    "#plt.scatter(np.arange(res_true.size), res_true, c='b')\n",
    "plt.scatter(diff_idx, res[diff_idx], c='r', label='FPGA')\n",
    "plt.scatter(diff_idx, res_true[diff_idx], c='g', label='NumPy')\n",
    "#plt.scatter(diff_idx, z_true[diff_idx]-z[diff_idx], c='r')\n",
    "#plt.xlim(0, size)\n",
    "#plt.ylim(1, size+1)\n",
    "plt.legend(loc='upper left')\n",
    "plt.title('Differences')\n",
    "plt.show()"
   ]
  },
  {
   "cell_type": "code",
   "execution_count": null,
   "metadata": {},
   "outputs": [],
   "source": [
    "res[diff_idx]"
   ]
  },
  {
   "cell_type": "code",
   "execution_count": null,
   "metadata": {},
   "outputs": [],
   "source": [
    "res_true[diff_idx]"
   ]
  },
  {
   "cell_type": "code",
   "execution_count": null,
   "metadata": {
    "scrolled": false
   },
   "outputs": [],
   "source": [
    "trace.plot()"
   ]
  }
 ],
 "metadata": {
  "kernelspec": {
   "display_name": "Python 3",
   "language": "python",
   "name": "python3"
  },
  "language_info": {
   "codemirror_mode": {
    "name": "ipython",
    "version": 3
   },
   "file_extension": ".py",
   "mimetype": "text/x-python",
   "name": "python",
   "nbconvert_exporter": "python",
   "pygments_lexer": "ipython3",
   "version": "3.7.0"
  }
 },
 "nbformat": 4,
 "nbformat_minor": 2
}
