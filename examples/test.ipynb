{
 "cells": [
  {
   "cell_type": "code",
   "execution_count": null,
   "metadata": {},
   "outputs": [],
   "source": [
    "import matplotlib.pyplot as plt\n",
    "import numpy as np\n",
    "import sys\n",
    "sys.path.append('..')\n",
    "from bundle import fpgapy as fp\n",
    "from pyclk import Trace\n",
    "\n",
    "%matplotlib inline"
   ]
  },
  {
   "cell_type": "code",
   "execution_count": null,
   "metadata": {},
   "outputs": [],
   "source": [
    "fp.fpga.config"
   ]
  },
  {
   "cell_type": "code",
   "execution_count": null,
   "metadata": {},
   "outputs": [],
   "source": [
    "fpga = fp.fpga\n",
    "#fpga.set_cycle_nb(100)\n",
    "\n",
    "trace = Trace()\n",
    "for i in range(fp.fpga.config['mem_nb']):\n",
    "    trace.add(fpga.u_mem[i].i_addr)\n",
    "    trace.add(fpga.u_mem[i].o_dout)\n",
    "    trace.add(fpga.u_mem[i].i_din)\n",
    "    trace.add(fpga.u_mem[i].i_wena)\n",
    "for i in range(fp.fpga.config['iter_nb']):\n",
    "    trace.add(fpga.u_iter[i].o_wena)\n",
    "#    trace.add(fpga.u_iter[i].o_done)\n",
    "#    trace.add(fpga.u_iter[i].i_ack)\n",
    "#    trace.add(fpga.u_iter[i].i_data_nb)\n",
    "fpga.set_trace(trace)"
   ]
  },
  {
   "cell_type": "code",
   "execution_count": null,
   "metadata": {
    "scrolled": true
   },
   "outputs": [],
   "source": [
    "size = 5000\n",
    "a0 = fp.arange(size)\n",
    "res = (a0 + a0) * a0\n",
    "print(res[:100])"
   ]
  },
  {
   "cell_type": "code",
   "execution_count": null,
   "metadata": {},
   "outputs": [],
   "source": [
    "a0_true = np.arange(size)\n",
    "res_true = (a0_true + a0_true) * a0_true\n",
    "print(res_true[:100])"
   ]
  },
  {
   "cell_type": "code",
   "execution_count": null,
   "metadata": {},
   "outputs": [],
   "source": [
    "if np.array_equal(res, res_true):\n",
    "    print('Success!')\n",
    "else:\n",
    "    print('Failed!')"
   ]
  },
  {
   "cell_type": "code",
   "execution_count": null,
   "metadata": {},
   "outputs": [],
   "source": [
    "res = np.array(res)\n",
    "diff_idx = np.where(res != res_true)\n",
    "plt.figure(figsize=(15, 5))\n",
    "plt.scatter(np.arange(res_true.size), res_true, c='b')\n",
    "plt.scatter(diff_idx, res[diff_idx], c='r', label='FPGA')\n",
    "plt.scatter(diff_idx, res_true[diff_idx], c='g', label='NumPy')\n",
    "#plt.scatter(diff_idx, z_true[diff_idx]-z[diff_idx], c='r')\n",
    "plt.xlim(0, size)\n",
    "plt.ylim(1, size+1)\n",
    "plt.legend(loc='upper left')\n",
    "plt.title('Differences')\n",
    "plt.show()"
   ]
  },
  {
   "cell_type": "code",
   "execution_count": null,
   "metadata": {},
   "outputs": [],
   "source": [
    "res[diff_idx]"
   ]
  },
  {
   "cell_type": "code",
   "execution_count": null,
   "metadata": {},
   "outputs": [],
   "source": [
    "res_true[diff_idx]"
   ]
  },
  {
   "cell_type": "code",
   "execution_count": null,
   "metadata": {
    "scrolled": false
   },
   "outputs": [],
   "source": [
    "trace.plot()"
   ]
  }
 ],
 "metadata": {
  "kernelspec": {
   "display_name": "Python 3",
   "language": "python",
   "name": "python3"
  },
  "language_info": {
   "codemirror_mode": {
    "name": "ipython",
    "version": 3
   },
   "file_extension": ".py",
   "mimetype": "text/x-python",
   "name": "python",
   "nbconvert_exporter": "python",
   "pygments_lexer": "ipython3",
   "version": "3.6.3"
  }
 },
 "nbformat": 4,
 "nbformat_minor": 2
}
