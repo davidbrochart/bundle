{
 "cells": [
  {
   "cell_type": "code",
   "execution_count": null,
   "metadata": {},
   "outputs": [],
   "source": [
    "is_simulation = True"
   ]
  },
  {
   "cell_type": "code",
   "execution_count": null,
   "metadata": {},
   "outputs": [],
   "source": [
    "import numpy as np\n",
    "import sys\n",
    "sys.path.insert(0, '..')\n",
    "from bundle import FPGA_config, evaluate\n",
    "\n",
    "if is_simulation:\n",
    "    import matplotlib.pyplot as plt\n",
    "    %matplotlib inline\n",
    "    from bundle.simu import Simu\n",
    "    from pyclk import Trace\n",
    "else:\n",
    "    from bundle.pynq import PYNQ\n",
    "    from pynq import Xlnk, Overlay\n",
    "    xlnk = Xlnk()\n",
    "    overlay = Overlay('/home/xilinx/overlays/bundle/design_1.bit')"
   ]
  },
  {
   "cell_type": "code",
   "execution_count": null,
   "metadata": {},
   "outputs": [],
   "source": [
    "iter_nb = 1\n",
    "mem_nb = iter_nb * 3\n",
    "ddr2fpga_nb = 1\n",
    "fpga2ddr_nb = 1\n",
    "mem_depth = 1024\n",
    "add_nb = iter_nb\n",
    "mul_nb = iter_nb\n",
    "\n",
    "fpga_config = FPGA_config(ddr2fpga_nb, fpga2ddr_nb, iter_nb, mem_nb, mem_depth, add_nb, mul_nb)\n",
    "\n",
    "if is_simulation:\n",
    "    fpga = Simu(fpga_config)\n",
    "else:\n",
    "    fpga = PYNQ(fpga_config, overlay)"
   ]
  },
  {
   "cell_type": "code",
   "execution_count": null,
   "metadata": {},
   "outputs": [],
   "source": [
    "if is_simulation:\n",
    "    #fpga.set_cycle_nb(1000)\n",
    "    trace = Trace()\n",
    "    for i in range(fpga_config.config['ddr2fpga_nb']):\n",
    "        #trace.add(fpga.u_ddr2fpga[i].r_state)\n",
    "        #trace.add(fpga.u_ddr2fpga[i].i_data_nb)\n",
    "        #trace.add(fpga.u_ddr2fpga[i].r_wena)\n",
    "        #trace.add(fpga.u_ddr2fpga[i].r_ptr_i)\n",
    "        trace.add(fpga.u_ddr2fpga[i].o_mem_din)\n",
    "        trace.add(fpga.s_ddr2fpga_mem_i[i])\n",
    "    for i in range(fpga_config.config['mem_nb']):\n",
    "        #trace.add(fpga.u_mem[i].i_addr)\n",
    "        trace.add(fpga.u_mem[i].o_dout)\n",
    "        trace.add(fpga.u_mem[i].i_din)\n",
    "        trace.add(fpga.s_mem_dout[i])\n",
    "        #trace.add(fpga.u_mem[i].i_wena)\n",
    "        #trace.add(fpga.s_mem_din[i])\n",
    "    for i in range(fpga_config.config['iter_nb']):\n",
    "        trace.add(fpga.s_iter_rmem0_i[i])\n",
    "        trace.add(fpga.s_iter_rmem1_i[i])\n",
    "        #trace.add(fpga.u_iter[i].o_done)\n",
    "        #trace.add(fpga.u_iter[i].i_ack)\n",
    "        #trace.add(fpga.u_iter[i].i_data_nb)\n",
    "    for i in range(fpga_config.config['func_nb']):\n",
    "        trace.add(fpga.u_func[i].i_arg0)\n",
    "        trace.add(fpga.u_func[i].i_arg1)\n",
    "        trace.add(fpga.u_func[i].i_arg_valid)\n",
    "        trace.add(fpga.u_func[i].o_res)\n",
    "        trace.add(fpga.u_func[i].o_res_valid)\n",
    "    for i in range(fpga_config.config['fpga2ddr_nb']):\n",
    "        trace.add(fpga.u_fpga2ddr[i].i_data_nb)\n",
    "        trace.add(fpga.u_fpga2ddr[i].o_done)\n",
    "    fpga.set_trace(trace)"
   ]
  },
  {
   "cell_type": "code",
   "execution_count": null,
   "metadata": {
    "scrolled": true
   },
   "outputs": [],
   "source": [
    "size = 10_000\n",
    "a0 = np.arange(size, dtype=np.uint64)\n",
    "a1 = np.ones_like(a0)\n",
    "a2 = np.zeros_like(a0)\n",
    "\n",
    "#expr = '(a0 + a1 * (a0 + a2)) * a1 + a1'\n",
    "expr = 'a0 + a1'"
   ]
  },
  {
   "cell_type": "code",
   "execution_count": null,
   "metadata": {
    "scrolled": true
   },
   "outputs": [],
   "source": [
    "res = evaluate(expr, fpga, debug=True)"
   ]
  },
  {
   "cell_type": "code",
   "execution_count": null,
   "metadata": {},
   "outputs": [],
   "source": [
    "res"
   ]
  },
  {
   "cell_type": "code",
   "execution_count": null,
   "metadata": {},
   "outputs": [],
   "source": [
    "# FPGA runs at 100 MHz\n",
    "print('In FPGA:')\n",
    "print(f'{fpga.time * 1e6 / 1e8} us')"
   ]
  },
  {
   "cell_type": "code",
   "execution_count": null,
   "metadata": {},
   "outputs": [],
   "source": [
    "cexpr = compile(expr, 'fakemodule', 'exec')\n",
    "print('In CPU:')\n",
    "%timeit exec(cexpr)"
   ]
  },
  {
   "cell_type": "code",
   "execution_count": null,
   "metadata": {},
   "outputs": [],
   "source": [
    "#res_true = bd.evaluate(expr, toFpga=False)\n",
    "res_true = eval(expr)\n",
    "res_true"
   ]
  },
  {
   "cell_type": "code",
   "execution_count": null,
   "metadata": {},
   "outputs": [],
   "source": [
    "if np.array_equal(res, res_true):\n",
    "    print('Success!')\n",
    "else:\n",
    "    print('Failed!')"
   ]
  },
  {
   "cell_type": "code",
   "execution_count": null,
   "metadata": {},
   "outputs": [],
   "source": [
    "res = np.array(res)\n",
    "diff_idx = np.where(res != res_true)\n",
    "plt.figure(figsize=(15, 5))\n",
    "plt.scatter(np.arange(res_true.size), res_true, c='b')\n",
    "plt.scatter(diff_idx, res[diff_idx], c='r', label='FPGA')\n",
    "plt.scatter(diff_idx, res_true[diff_idx], c='g', label='NumPy')\n",
    "#plt.scatter(diff_idx, z_true[diff_idx]-z[diff_idx], c='r')\n",
    "plt.xlim(0, size)\n",
    "plt.ylim(1, size+1)\n",
    "plt.legend(loc='upper left')\n",
    "plt.title('Differences')\n",
    "plt.show()"
   ]
  },
  {
   "cell_type": "code",
   "execution_count": null,
   "metadata": {},
   "outputs": [],
   "source": [
    "res[diff_idx]"
   ]
  },
  {
   "cell_type": "code",
   "execution_count": null,
   "metadata": {},
   "outputs": [],
   "source": [
    "res_true[diff_idx]"
   ]
  },
  {
   "cell_type": "code",
   "execution_count": null,
   "metadata": {
    "scrolled": false
   },
   "outputs": [],
   "source": [
    "trace.plot()"
   ]
  }
 ],
 "metadata": {
  "kernelspec": {
   "display_name": "Python 3",
   "language": "python",
   "name": "python3"
  },
  "language_info": {
   "codemirror_mode": {
    "name": "ipython",
    "version": 3
   },
   "file_extension": ".py",
   "mimetype": "text/x-python",
   "name": "python",
   "nbconvert_exporter": "python",
   "pygments_lexer": "ipython3",
   "version": "3.6.3"
  }
 },
 "nbformat": 4,
 "nbformat_minor": 2
}
