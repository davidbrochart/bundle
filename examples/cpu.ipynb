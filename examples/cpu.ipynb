{
 "cells": [
  {
   "cell_type": "code",
   "execution_count": null,
   "metadata": {},
   "outputs": [],
   "source": [
    "#import asyncio\n",
    "#import uvloop\n",
    "#\n",
    "#asyncio.set_event_loop_policy(uvloop.EventLoopPolicy())"
   ]
  },
  {
   "cell_type": "code",
   "execution_count": null,
   "metadata": {},
   "outputs": [],
   "source": [
    "import nest_asyncio\n",
    "nest_asyncio.apply()\n",
    "from time import time\n",
    "import numpy as np\n",
    "import sys\n",
    "sys.path.insert(0, '..')\n",
    "from bundle import evaluate\n",
    "from bundle.cpu_config import Config\n",
    "from bundle.cpu_device import Device\n",
    "from bundle.cpu_dashboard import Dashboard"
   ]
  },
  {
   "cell_type": "code",
   "execution_count": null,
   "metadata": {},
   "outputs": [],
   "source": [
    "mem_nb = 128\n",
    "mem_depth = 1_000_000\n",
    "thread_nb = 3\n",
    "\n",
    "config = Config(mem_nb, mem_depth, thread_nb).config\n",
    "db = Dashboard(thread_nb)\n",
    "device = Device(config, db)"
   ]
  },
  {
   "cell_type": "code",
   "execution_count": null,
   "metadata": {},
   "outputs": [],
   "source": [
    "size = 10_000_000\n",
    "a0 = np.arange(size).astype(np.float64)\n",
    "a1 = a0 + 1.\n",
    "expr = 'sin(cos(sin(cos((sin(a0) + cos(a1)) * sin(a1)))))'"
   ]
  },
  {
   "cell_type": "code",
   "execution_count": null,
   "metadata": {},
   "outputs": [],
   "source": [
    "t0 = time()\n",
    "res = evaluate(expr, device)\n",
    "t1 = time()\n",
    "print(t1 - t0)"
   ]
  },
  {
   "cell_type": "code",
   "execution_count": null,
   "metadata": {},
   "outputs": [],
   "source": [
    "db.show()"
   ]
  }
 ],
 "metadata": {
  "kernelspec": {
   "display_name": "Python 3",
   "language": "python",
   "name": "python3"
  },
  "language_info": {
   "codemirror_mode": {
    "name": "ipython",
    "version": 3
   },
   "file_extension": ".py",
   "mimetype": "text/x-python",
   "name": "python",
   "nbconvert_exporter": "python",
   "pygments_lexer": "ipython3",
   "version": "3.7.0"
  }
 },
 "nbformat": 4,
 "nbformat_minor": 2
}
