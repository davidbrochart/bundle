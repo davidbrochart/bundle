{
 "cells": [
  {
   "cell_type": "code",
   "execution_count": null,
   "metadata": {},
   "outputs": [],
   "source": [
    "import matplotlib.pyplot as plt\n",
    "import numpy as np\n",
    "from dask.dot import dot_graph\n",
    "from bundle import FPGA, fpga_op\n",
    "from bundle import fpgapy as fp\n",
    "from pyclk import Trace\n",
    "\n",
    "%matplotlib inline"
   ]
  },
  {
   "cell_type": "code",
   "execution_count": null,
   "metadata": {},
   "outputs": [],
   "source": [
    "iter_nb = 2\n",
    "add_nb = 3\n",
    "mul_nb = 3\n",
    "func_nb = add_nb + mul_nb\n",
    "\n",
    "fpga = FPGA(iter_nb, add_nb, mul_nb) #, cycle_nb = 1000)\n",
    "\n",
    "trace = Trace()\n",
    "trace.add(fpga.u_crossbar.r_iter_i)\n",
    "trace.add(fpga.u_crossbar.r_func_i)\n",
    "for i in range(iter_nb):\n",
    "    trace.add(fpga.u_iterator[i].o_op_done)\n",
    "    trace.add(fpga.u_crossbar.r_iter_func_i[i])\n",
    "    trace.add(fpga.u_crossbar.r_iter_busy[i])\n",
    "for i in range(func_nb):\n",
    "    trace.add(fpga.u_func[i].o_res)\n",
    "    trace.add(fpga.u_crossbar.r_func_busy[i])\n",
    "\n",
    "fpga.set_trace(trace)"
   ]
  },
  {
   "cell_type": "code",
   "execution_count": null,
   "metadata": {},
   "outputs": [],
   "source": [
    "size = 1000\n",
    "\n",
    "a = fp.arange(0, size)\n",
    "b = fp.ones(size)\n",
    "c = a + b\n",
    "d = c * a\n",
    "\n",
    "a_true = np.arange(0, size)\n",
    "b_true = np.ones(size)\n",
    "c_true = a_true + b_true\n",
    "d_true = c_true * a_true"
   ]
  },
  {
   "cell_type": "code",
   "execution_count": null,
   "metadata": {},
   "outputs": [],
   "source": [
    "#dot_graph(d.dask)"
   ]
  },
  {
   "cell_type": "code",
   "execution_count": null,
   "metadata": {},
   "outputs": [],
   "source": [
    "d = d.compute()\n",
    "if np.array_equal(d, d_true):\n",
    "    print('Success!')\n",
    "else:\n",
    "    print('Failed!')"
   ]
  },
  {
   "cell_type": "code",
   "execution_count": null,
   "metadata": {
    "scrolled": false
   },
   "outputs": [],
   "source": [
    "trace.plot()"
   ]
  },
  {
   "cell_type": "code",
   "execution_count": null,
   "metadata": {},
   "outputs": [],
   "source": [
    "diff_idx = np.where(d != d_true)\n",
    "plt.figure(figsize=(15, 5))\n",
    "plt.scatter(np.arange(d_true.size), d_true, c='b')\n",
    "plt.scatter(diff_idx, d[diff_idx], c='r', label='FPGA')\n",
    "plt.scatter(diff_idx, d_true[diff_idx], c='g', label='NumPy')\n",
    "#plt.scatter(diff_idx, z_true[diff_idx]-z[diff_idx], c='r')\n",
    "plt.xlim(0, size)\n",
    "plt.ylim(1, size+1)\n",
    "plt.legend(loc='upper left')\n",
    "plt.title('Differences')\n",
    "plt.show()"
   ]
  },
  {
   "cell_type": "code",
   "execution_count": null,
   "metadata": {},
   "outputs": [],
   "source": [
    "d[diff_idx]"
   ]
  },
  {
   "cell_type": "code",
   "execution_count": null,
   "metadata": {},
   "outputs": [],
   "source": [
    "d_true[diff_idx]"
   ]
  }
 ],
 "metadata": {
  "kernelspec": {
   "display_name": "Python 3",
   "language": "python",
   "name": "python3"
  },
  "language_info": {
   "codemirror_mode": {
    "name": "ipython",
    "version": 3
   },
   "file_extension": ".py",
   "mimetype": "text/x-python",
   "name": "python",
   "nbconvert_exporter": "python",
   "pygments_lexer": "ipython3",
   "version": "3.6.3"
  }
 },
 "nbformat": 4,
 "nbformat_minor": 2
}
