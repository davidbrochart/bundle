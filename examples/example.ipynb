{
 "cells": [
  {
   "cell_type": "code",
   "execution_count": null,
   "metadata": {},
   "outputs": [],
   "source": [
    "import sys\n",
    "sys.path.append('../../pyclk')\n",
    "sys.path.append('../bundle')\n",
    "\n",
    "import matplotlib.pyplot as plt\n",
    "import numpy as np\n",
    "import dask.array as da\n",
    "from dask.dot import dot_graph\n",
    "import fpga_op\n",
    "from fpga import FPGA\n",
    "from pyclk import Trace\n",
    "\n",
    "%matplotlib inline"
   ]
  },
  {
   "cell_type": "code",
   "execution_count": null,
   "metadata": {},
   "outputs": [],
   "source": [
    "iter_nb = 2\n",
    "func_nb = 3\n",
    "\n",
    "fpga = FPGA(iter_nb, func_nb)\n",
    "\n",
    "fpga_op.fpga = fpga\n",
    "\n",
    "trace = Trace()\n",
    "trace.add(fpga.u_crossbar.r_iter_i)\n",
    "trace.add(fpga.u_crossbar.r_func_i)\n",
    "for i in range(iter_nb):\n",
    "    trace.add(fpga.u_iterator[i].o_op_done)\n",
    "    trace.add(fpga.u_crossbar.r_iter_func_i[i])\n",
    "    trace.add(fpga.u_crossbar.r_iter_busy[i])\n",
    "for i in range(func_nb):\n",
    "    trace.add(fpga.u_func[i].o_res)\n",
    "    trace.add(fpga.u_crossbar.r_func_busy[i])\n",
    "\n",
    "fpga.trace = trace"
   ]
  },
  {
   "cell_type": "code",
   "execution_count": null,
   "metadata": {},
   "outputs": [],
   "source": [
    "size = 1000\n",
    "chunks = 111\n",
    "\n",
    "x = da.arange(0, size, chunks=(chunks,))\n",
    "y = da.ones(size, chunks=(chunks,))\n",
    "z = fpga_op.add(x, y)\n",
    "#dot_graph(z.dask)\n",
    "\n",
    "x_true = np.arange(0, size)\n",
    "y_true = np.ones(size)\n",
    "z_true = x_true + y_true"
   ]
  },
  {
   "cell_type": "code",
   "execution_count": null,
   "metadata": {},
   "outputs": [],
   "source": [
    "z = z.compute()\n",
    "if np.array_equal(z, z_true):\n",
    "    print('Success!')\n",
    "else:\n",
    "    print('Failed!')"
   ]
  },
  {
   "cell_type": "code",
   "execution_count": null,
   "metadata": {
    "scrolled": false
   },
   "outputs": [],
   "source": [
    "trace.plot()"
   ]
  },
  {
   "cell_type": "code",
   "execution_count": null,
   "metadata": {},
   "outputs": [],
   "source": [
    "diff_idx = np.where(z != z_true)\n",
    "plt.figure(figsize=(15, 5))\n",
    "plt.scatter(diff_idx, z[diff_idx], c='r', label='FPGA')\n",
    "plt.scatter(diff_idx, z_true[diff_idx], c='g', label='NumPy')\n",
    "#plt.scatter(diff_idx, z_true[diff_idx]-z[diff_idx], c='r')\n",
    "plt.xlim(0, size)\n",
    "plt.ylim(1, size+1)\n",
    "plt.legend(loc='upper left')\n",
    "plt.title('Differences')\n",
    "plt.show()"
   ]
  },
  {
   "cell_type": "code",
   "execution_count": null,
   "metadata": {},
   "outputs": [],
   "source": [
    "z[diff_idx]"
   ]
  },
  {
   "cell_type": "code",
   "execution_count": null,
   "metadata": {},
   "outputs": [],
   "source": [
    "z_true[diff_idx]"
   ]
  }
 ],
 "metadata": {
  "kernelspec": {
   "display_name": "Python 3",
   "language": "python",
   "name": "python3"
  },
  "language_info": {
   "codemirror_mode": {
    "name": "ipython",
    "version": 3
   },
   "file_extension": ".py",
   "mimetype": "text/x-python",
   "name": "python",
   "nbconvert_exporter": "python",
   "pygments_lexer": "ipython3",
   "version": "3.6.3"
  }
 },
 "nbformat": 4,
 "nbformat_minor": 2
}
