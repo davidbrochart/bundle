{
 "cells": [
  {
   "cell_type": "code",
   "execution_count": null,
   "metadata": {},
   "outputs": [],
   "source": [
    "import sys\n",
    "sys.path.append('../../pyclk')\n",
    "sys.path.append('../bundle')\n",
    "\n",
    "import numpy as np\n",
    "import dask.array as da\n",
    "from dask.dot import dot_graph\n",
    "import fpga_op\n",
    "from fpga import FPGA\n",
    "from pyclk import Trace"
   ]
  },
  {
   "cell_type": "code",
   "execution_count": null,
   "metadata": {},
   "outputs": [],
   "source": [
    "fpga = FPGA()\n",
    "\n",
    "fpga_op.fpga = fpga\n",
    "\n",
    "trace = Trace()\n",
    "for i in range(3):\n",
    "    trace.add(fpga.s_a[i])\n",
    "    trace.add(fpga.s_b[i])\n",
    "    trace.add(fpga.s_c[i])\n",
    "    trace.add(fpga.s_op_done[i])\n",
    "\n",
    "fpga.trace = trace"
   ]
  },
  {
   "cell_type": "code",
   "execution_count": null,
   "metadata": {},
   "outputs": [],
   "source": [
    "x = da.arange(0, 3000, chunks=(1000,))\n",
    "y = da.arange(1, 3001, chunks=(1000,))\n",
    "z = fpga_op.add(x, y)\n",
    "#dot_graph(z.dask)\n",
    "\n",
    "x_true = np.arange(0, 3000)\n",
    "y_true = np.arange(1, 3001)\n",
    "z_true = x + y"
   ]
  },
  {
   "cell_type": "code",
   "execution_count": null,
   "metadata": {},
   "outputs": [],
   "source": [
    "if np.array_equal(z.compute(), z_true):\n",
    "    print('Success!')\n",
    "else:\n",
    "    print('Failed!')"
   ]
  },
  {
   "cell_type": "code",
   "execution_count": null,
   "metadata": {},
   "outputs": [],
   "source": [
    "trace.plot()"
   ]
  }
 ],
 "metadata": {
  "kernelspec": {
   "display_name": "Python 3",
   "language": "python",
   "name": "python3"
  },
  "language_info": {
   "codemirror_mode": {
    "name": "ipython",
    "version": 3
   },
   "file_extension": ".py",
   "mimetype": "text/x-python",
   "name": "python",
   "nbconvert_exporter": "python",
   "pygments_lexer": "ipython3",
   "version": "3.6.0"
  }
 },
 "nbformat": 4,
 "nbformat_minor": 2
}
