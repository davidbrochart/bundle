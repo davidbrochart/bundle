{
 "cells": [
  {
   "cell_type": "code",
   "execution_count": null,
   "metadata": {},
   "outputs": [],
   "source": [
    "import matplotlib.pyplot as plt\n",
    "import numpy as np\n",
    "from bundle import fpgapy as fp\n",
    "from pyclk import Trace\n",
    "\n",
    "%matplotlib inline"
   ]
  },
  {
   "cell_type": "code",
   "execution_count": null,
   "metadata": {},
   "outputs": [],
   "source": [
    "fpga = fp.fpga\n",
    "fpga.set_cycle_nb(100)\n",
    "\n",
    "trace = Trace()\n",
    "#trace.add(fpga.u_iter[0].o_arg_valid)\n",
    "#trace.add(fpga.u_xbar.i_iter_arg_valid[0])\n",
    "#trace.add(fpga.u_xbar.i_iter_func_i[0])\n",
    "#trace.add(fpga.u_xbar.o_func_arg_valid[0])\n",
    "#trace.add(fpga.u_iter[0].r_raddr)\n",
    "trace.add(fpga.u_mem[0].i_addr)\n",
    "trace.add(fpga.u_mem[0].o_dout)\n",
    "trace.add(fpga.u_mem[1].i_addr)\n",
    "trace.add(fpga.u_mem[1].o_dout)\n",
    "trace.add(fpga.u_mem[2].i_addr)\n",
    "trace.add(fpga.u_mem[2].i_din)\n",
    "trace.add(fpga.u_mem[2].i_wena)\n",
    "#trace.add(fpga.u_func[0].i_arg0)\n",
    "#trace.add(fpga.u_func[0].i_arg1)\n",
    "#trace.add(fpga.u_func[0].i_arg_valid)\n",
    "#trace.add(fpga.u_func[0].o_res)\n",
    "#trace.add(fpga.u_func[0].o_res_valid)\n",
    "if False:\n",
    "    for i in range(fpga.iter_nb):\n",
    "        trace.add(fpga.u_iter[i].o_arg_valid)\n",
    "        trace.add(fpga.u_iter[i].i_res_valid)\n",
    "        trace.add(fpga.u_iter[i].r_raddr)\n",
    "        #trace.add(fpga.u_iter[i].r_waddr)\n",
    "        #trace.add(fpga.u_iter[i].i_res_valid)\n",
    "        #trace.add(fpga.u_xbar.i_iter_func_i[i])\n",
    "        #trace.add(fpga.u_xbar.o_iter_res_valid[i])\n",
    "        #trace.add(fpga.u_xbar.o_func_arg_valid[i])\n",
    "        #trace.add(fpga.s_iter_done[i])\n",
    "    for i in range(fpga.func_nb):\n",
    "        #trace.add(fpga.s_func_res[i])\n",
    "        trace.add(fpga.u_func[i].i_arg_valid)\n",
    "        trace.add(fpga.u_func[i].o_res_valid)\n",
    "        pass\n",
    "\n",
    "fpga.set_trace(trace)"
   ]
  },
  {
   "cell_type": "code",
   "execution_count": null,
   "metadata": {},
   "outputs": [],
   "source": [
    "size = 10\n",
    "\n",
    "a0 = fp.arange(size)\n",
    "a1 = fp.ones((size,))\n",
    "res = a0 + a1\n",
    "\n",
    "a0_true = np.arange(size)\n",
    "a1_true = np.ones(size)\n",
    "res_true = a0_true + a1_true"
   ]
  },
  {
   "cell_type": "code",
   "execution_count": null,
   "metadata": {
    "scrolled": false
   },
   "outputs": [],
   "source": [
    "trace.plot()"
   ]
  },
  {
   "cell_type": "code",
   "execution_count": null,
   "metadata": {},
   "outputs": [],
   "source": [
    "if np.array_equal(res, res_true):\n",
    "    print('Success!')\n",
    "else:\n",
    "    print('Failed!')"
   ]
  },
  {
   "cell_type": "code",
   "execution_count": null,
   "metadata": {},
   "outputs": [],
   "source": [
    "res = np.array(res)\n",
    "diff_idx = np.where(res != res_true)\n",
    "plt.figure(figsize=(15, 5))\n",
    "plt.scatter(np.arange(res_true.size), res_true, c='b')\n",
    "plt.scatter(diff_idx, res[diff_idx], c='r', label='FPGA')\n",
    "plt.scatter(diff_idx, res_true[diff_idx], c='g', label='NumPy')\n",
    "#plt.scatter(diff_idx, z_true[diff_idx]-z[diff_idx], c='r')\n",
    "plt.xlim(0, size)\n",
    "plt.ylim(1, size+1)\n",
    "plt.legend(loc='upper left')\n",
    "plt.title('Differences')\n",
    "plt.show()"
   ]
  },
  {
   "cell_type": "code",
   "execution_count": null,
   "metadata": {},
   "outputs": [],
   "source": [
    "res[diff_idx]"
   ]
  },
  {
   "cell_type": "code",
   "execution_count": null,
   "metadata": {},
   "outputs": [],
   "source": [
    "res_true[diff_idx]"
   ]
  }
 ],
 "metadata": {
  "kernelspec": {
   "display_name": "Python 3",
   "language": "python",
   "name": "python3"
  },
  "language_info": {
   "codemirror_mode": {
    "name": "ipython",
    "version": 3
   },
   "file_extension": ".py",
   "mimetype": "text/x-python",
   "name": "python",
   "nbconvert_exporter": "python",
   "pygments_lexer": "ipython3",
   "version": "3.6.3"
  }
 },
 "nbformat": 4,
 "nbformat_minor": 2
}
