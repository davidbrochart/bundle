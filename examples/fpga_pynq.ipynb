{
 "cells": [
  {
   "cell_type": "code",
   "execution_count": null,
   "metadata": {},
   "outputs": [],
   "source": [
    "import nest_asyncio\n",
    "nest_asyncio.apply()\n",
    "import matplotlib.pyplot as plt\n",
    "%matplotlib inline\n",
    "import numpy as np\n",
    "import sys\n",
    "sys.path.insert(0, '..')\n",
    "from bundle import evaluate\n",
    "from bundle.fpga_config import FPGA_config\n",
    "from bundle.fpga_pynq import PYNQ\n",
    "from bundle.fpga_device import Device\n",
    "from pynq import Xlnk, Overlay\n",
    "xlnk = Xlnk()\n",
    "overlay = Overlay('/home/xilinx/overlays/bundle/design_1.bit')"
   ]
  },
  {
   "cell_type": "code",
   "execution_count": null,
   "metadata": {},
   "outputs": [],
   "source": [
    "mem_nb = 16\n",
    "iter_nb = mem_nb // 2\n",
    "ddr2fpga_nb = 4\n",
    "fpga2ddr_nb = 2\n",
    "mem_depth = 1024\n",
    "add_nb = 4\n",
    "mul_nb = 4\n",
    "\n",
    "config = FPGA_config(ddr2fpga_nb, fpga2ddr_nb, iter_nb, mem_nb, mem_depth, add_nb, mul_nb)\n",
    "\n",
    "fpga = PYNQ(config, overlay)\n",
    "\n",
    "device = Device(config, fpga)"
   ]
  },
  {
   "cell_type": "code",
   "execution_count": null,
   "metadata": {
    "scrolled": true
   },
   "outputs": [],
   "source": [
    "size = 10000\n",
    "a0 = np.arange(size).astype(np.uint64)\n",
    "a1 = np.ones_like(a0)\n",
    "a2 = a1 * 2\n",
    "a3 = a1 * 3\n",
    "\n",
    "expr = 'a0 * a1 + a2 * a3'"
   ]
  },
  {
   "cell_type": "code",
   "execution_count": null,
   "metadata": {
    "scrolled": true
   },
   "outputs": [],
   "source": [
    "res = evaluate(expr, device)"
   ]
  },
  {
   "cell_type": "code",
   "execution_count": null,
   "metadata": {},
   "outputs": [],
   "source": [
    "res"
   ]
  },
  {
   "cell_type": "code",
   "execution_count": null,
   "metadata": {},
   "outputs": [],
   "source": [
    "cexpr = compile(expr, 'fakemodule', 'exec')\n",
    "print('In CPU:')\n",
    "%timeit exec(cexpr)"
   ]
  },
  {
   "cell_type": "code",
   "execution_count": null,
   "metadata": {},
   "outputs": [],
   "source": [
    "#res_true = evaluate(expr)\n",
    "res_true = eval(expr)\n",
    "res_true"
   ]
  },
  {
   "cell_type": "code",
   "execution_count": null,
   "metadata": {},
   "outputs": [],
   "source": [
    "if np.array_equal(res, res_true):\n",
    "    print('Success!')\n",
    "else:\n",
    "    print('Failed!')"
   ]
  }
 ],
 "metadata": {
  "kernelspec": {
   "display_name": "Python 3",
   "language": "python",
   "name": "python3"
  },
  "language_info": {
   "codemirror_mode": {
    "name": "ipython",
    "version": 3
   },
   "file_extension": ".py",
   "mimetype": "text/x-python",
   "name": "python",
   "nbconvert_exporter": "python",
   "pygments_lexer": "ipython3",
   "version": "3.7.0"
  }
 },
 "nbformat": 4,
 "nbformat_minor": 2
}
